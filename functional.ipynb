{
  "nbformat": 4,
  "nbformat_minor": 0,
  "metadata": {
    "colab": {
      "provenance": [],
      "authorship_tag": "ABX9TyM9dEeSENyH+vufd9l43+lG",
      "include_colab_link": true
    },
    "kernelspec": {
      "name": "python3",
      "display_name": "Python 3"
    },
    "language_info": {
      "name": "python"
    }
  },
  "cells": [
    {
      "cell_type": "markdown",
      "metadata": {
        "id": "view-in-github",
        "colab_type": "text"
      },
      "source": [
        "<a href=\"https://colab.research.google.com/github/dev-S-t/infosis/blob/main/functional.ipynb\" target=\"_parent\"><img src=\"https://colab.research.google.com/assets/colab-badge.svg\" alt=\"Open In Colab\"/></a>"
      ]
    },
    {
      "cell_type": "code",
      "source": [
        "import tensorflow as tf\n",
        "from tensorflow.keras import layers\n",
        "from sklearn.datasets import fetch_california_housing\n",
        "from sklearn.model_selection import train_test_split\n",
        "from sklearn.preprocessing import StandardScaler"
      ],
      "metadata": {
        "id": "PdNDDe3W4InD"
      },
      "execution_count": 1,
      "outputs": []
    },
    {
      "cell_type": "code",
      "source": [
        "data = fetch_california_housing()\n",
        "\n",
        "X, y = data.data, data.target\n",
        "\n",
        "X_train, X_test, y_train, y_test = train_test_split(X, y, test_size=0.2, random_state=42)\n"
      ],
      "metadata": {
        "id": "XXbXcvRf4Jaq"
      },
      "execution_count": 2,
      "outputs": []
    },
    {
      "cell_type": "code",
      "source": [
        "scaler = StandardScaler()\n",
        "X_train_scaled = scaler.fit_transform(X_train)\n",
        "X_test_scaled = scaler.transform(X_test)\n"
      ],
      "metadata": {
        "id": "q2SfGRGq4QVb"
      },
      "execution_count": 3,
      "outputs": []
    },
    {
      "cell_type": "code",
      "source": [
        "\n",
        "input_shape = X_train_scaled.shape[1]\n",
        "\n",
        "inputs = tf.keras.Input(shape=(input_shape,))\n",
        "\n",
        "hidden_layer1 = layers.Dense(64, activation=\"relu\")(inputs)\n",
        "hidden_layer2 = layers.Dense(32, activation=\"relu\")(hidden_layer1)\n",
        "\n",
        "output_layer = layers.Dense(1)(hidden_layer2)\n",
        "\n",
        "model = tf.keras.Model(inputs=inputs, outputs=output_layer)\n",
        "\n",
        "model.compile(optimizer=\"adam\", loss=\"mean_squared_error\")\n"
      ],
      "metadata": {
        "id": "vn6O1yJt4XAN"
      },
      "execution_count": 4,
      "outputs": []
    },
    {
      "cell_type": "code",
      "source": [
        "\n",
        "model.fit(X_train_scaled, y_train, epochs=10, batch_size=32, validation_split=0.1)\n"
      ],
      "metadata": {
        "colab": {
          "base_uri": "https://localhost:8080/"
        },
        "id": "gefKF_ha4igZ",
        "outputId": "7086fb3b-f292-4f5d-d8d0-640e6f07f560"
      },
      "execution_count": 5,
      "outputs": [
        {
          "output_type": "stream",
          "name": "stdout",
          "text": [
            "Epoch 1/10\n",
            "465/465 [==============================] - 3s 3ms/step - loss: 0.8311 - val_loss: 0.5107\n",
            "Epoch 2/10\n",
            "465/465 [==============================] - 2s 4ms/step - loss: 0.4041 - val_loss: 0.4029\n",
            "Epoch 3/10\n",
            "465/465 [==============================] - 2s 4ms/step - loss: 0.3665 - val_loss: 0.3978\n",
            "Epoch 4/10\n",
            "465/465 [==============================] - 2s 3ms/step - loss: 0.3592 - val_loss: 0.3710\n",
            "Epoch 5/10\n",
            "465/465 [==============================] - 2s 5ms/step - loss: 0.3457 - val_loss: 0.3832\n",
            "Epoch 6/10\n",
            "465/465 [==============================] - 3s 5ms/step - loss: 0.3278 - val_loss: 0.3597\n",
            "Epoch 7/10\n",
            "465/465 [==============================] - 2s 4ms/step - loss: 0.3191 - val_loss: 0.3442\n",
            "Epoch 8/10\n",
            "465/465 [==============================] - 2s 5ms/step - loss: 0.3178 - val_loss: 0.3358\n",
            "Epoch 9/10\n",
            "465/465 [==============================] - 2s 5ms/step - loss: 0.3112 - val_loss: 0.3346\n",
            "Epoch 10/10\n",
            "465/465 [==============================] - 2s 5ms/step - loss: 0.3012 - val_loss: 0.3212\n"
          ]
        },
        {
          "output_type": "execute_result",
          "data": {
            "text/plain": [
              "<keras.src.callbacks.History at 0x794ccd9eba00>"
            ]
          },
          "metadata": {},
          "execution_count": 5
        }
      ]
    },
    {
      "cell_type": "code",
      "execution_count": 6,
      "metadata": {
        "colab": {
          "base_uri": "https://localhost:8080/"
        },
        "id": "lKZob1bVcGOy",
        "outputId": "ee69d3db-c555-4655-9e7b-48b2af1a40bb"
      },
      "outputs": [
        {
          "output_type": "stream",
          "name": "stdout",
          "text": [
            "129/129 [==============================] - 1s 4ms/step - loss: 0.3100\n",
            "Test Loss: 0.3100\n"
          ]
        }
      ],
      "source": [
        "\n",
        "loss = model.evaluate(X_test_scaled, y_test)\n",
        "print(f\"Test Loss: {loss:.4f}\")\n"
      ]
    }
  ]
}